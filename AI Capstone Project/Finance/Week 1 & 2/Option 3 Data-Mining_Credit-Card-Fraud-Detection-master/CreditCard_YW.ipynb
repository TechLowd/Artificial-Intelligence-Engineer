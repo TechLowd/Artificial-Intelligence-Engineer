{
 "cells": [
  {
   "cell_type": "markdown",
   "metadata": {},
   "source": [
    "# Credit Card Fraud Detection"
   ]
  },
  {
   "cell_type": "markdown",
   "metadata": {},
   "source": [
    "###### Ideas:\n",
    "1. Loading the dataset\n",
    "2. Checking the target classes\n",
    "3. Set target attribute & Split data into traing and test\n",
    "4. Resampling: Under-Sample\n",
    "#4.a Logistic Regression w/o gridsearchcv\n",
    "#4.b Decision Tree\n",
    "#4.c Random Forest\n",
    "5. Resampling: Over-sample\n",
    "#5.a Logistic Regression\n",
    "#5.b Decision Tree\n",
    "#5.c Random Forest\n",
    "6. Whole Data\n",
    "#6.a Logistic Regression\n",
    "#6.b Decision Tree\n",
    "#6.c Random Forest\n",
    "7. Bagging on Three Datasets\n"
   ]
  },
  {
   "cell_type": "code",
   "execution_count": 1,
   "metadata": {
    "collapsed": true
   },
   "outputs": [],
   "source": [
    "import pandas as pd\n",
    "import matplotlib.pyplot as plt\n",
    "import numpy as np\n",
    "%matplotlib inline"
   ]
  },
  {
   "cell_type": "markdown",
   "metadata": {},
   "source": [
    "## 1.Loading the dataset"
   ]
  },
  {
   "cell_type": "code",
   "execution_count": 2,
   "metadata": {
    "scrolled": true
   },
   "outputs": [
    {
     "name": "stdout",
     "output_type": "stream",
     "text": [
      "(284807, 31)\n"
     ]
    },
    {
     "data": {
      "text/html": [
       "<div>\n",
       "<style>\n",
       "    .dataframe thead tr:only-child th {\n",
       "        text-align: right;\n",
       "    }\n",
       "\n",
       "    .dataframe thead th {\n",
       "        text-align: left;\n",
       "    }\n",
       "\n",
       "    .dataframe tbody tr th {\n",
       "        vertical-align: top;\n",
       "    }\n",
       "</style>\n",
       "<table border=\"1\" class=\"dataframe\">\n",
       "  <thead>\n",
       "    <tr style=\"text-align: right;\">\n",
       "      <th></th>\n",
       "      <th>Time</th>\n",
       "      <th>V1</th>\n",
       "      <th>V2</th>\n",
       "      <th>V3</th>\n",
       "      <th>V4</th>\n",
       "      <th>V5</th>\n",
       "      <th>V6</th>\n",
       "      <th>V7</th>\n",
       "      <th>V8</th>\n",
       "      <th>V9</th>\n",
       "      <th>...</th>\n",
       "      <th>V21</th>\n",
       "      <th>V22</th>\n",
       "      <th>V23</th>\n",
       "      <th>V24</th>\n",
       "      <th>V25</th>\n",
       "      <th>V26</th>\n",
       "      <th>V27</th>\n",
       "      <th>V28</th>\n",
       "      <th>Amount</th>\n",
       "      <th>Class</th>\n",
       "    </tr>\n",
       "  </thead>\n",
       "  <tbody>\n",
       "    <tr>\n",
       "      <th>0</th>\n",
       "      <td>0.0</td>\n",
       "      <td>-1.359807</td>\n",
       "      <td>-0.072781</td>\n",
       "      <td>2.536347</td>\n",
       "      <td>1.378155</td>\n",
       "      <td>-0.338321</td>\n",
       "      <td>0.462388</td>\n",
       "      <td>0.239599</td>\n",
       "      <td>0.098698</td>\n",
       "      <td>0.363787</td>\n",
       "      <td>...</td>\n",
       "      <td>-0.018307</td>\n",
       "      <td>0.277838</td>\n",
       "      <td>-0.110474</td>\n",
       "      <td>0.066928</td>\n",
       "      <td>0.128539</td>\n",
       "      <td>-0.189115</td>\n",
       "      <td>0.133558</td>\n",
       "      <td>-0.021053</td>\n",
       "      <td>149.62</td>\n",
       "      <td>0</td>\n",
       "    </tr>\n",
       "    <tr>\n",
       "      <th>1</th>\n",
       "      <td>0.0</td>\n",
       "      <td>1.191857</td>\n",
       "      <td>0.266151</td>\n",
       "      <td>0.166480</td>\n",
       "      <td>0.448154</td>\n",
       "      <td>0.060018</td>\n",
       "      <td>-0.082361</td>\n",
       "      <td>-0.078803</td>\n",
       "      <td>0.085102</td>\n",
       "      <td>-0.255425</td>\n",
       "      <td>...</td>\n",
       "      <td>-0.225775</td>\n",
       "      <td>-0.638672</td>\n",
       "      <td>0.101288</td>\n",
       "      <td>-0.339846</td>\n",
       "      <td>0.167170</td>\n",
       "      <td>0.125895</td>\n",
       "      <td>-0.008983</td>\n",
       "      <td>0.014724</td>\n",
       "      <td>2.69</td>\n",
       "      <td>0</td>\n",
       "    </tr>\n",
       "    <tr>\n",
       "      <th>2</th>\n",
       "      <td>1.0</td>\n",
       "      <td>-1.358354</td>\n",
       "      <td>-1.340163</td>\n",
       "      <td>1.773209</td>\n",
       "      <td>0.379780</td>\n",
       "      <td>-0.503198</td>\n",
       "      <td>1.800499</td>\n",
       "      <td>0.791461</td>\n",
       "      <td>0.247676</td>\n",
       "      <td>-1.514654</td>\n",
       "      <td>...</td>\n",
       "      <td>0.247998</td>\n",
       "      <td>0.771679</td>\n",
       "      <td>0.909412</td>\n",
       "      <td>-0.689281</td>\n",
       "      <td>-0.327642</td>\n",
       "      <td>-0.139097</td>\n",
       "      <td>-0.055353</td>\n",
       "      <td>-0.059752</td>\n",
       "      <td>378.66</td>\n",
       "      <td>0</td>\n",
       "    </tr>\n",
       "  </tbody>\n",
       "</table>\n",
       "<p>3 rows × 31 columns</p>\n",
       "</div>"
      ],
      "text/plain": [
       "   Time        V1        V2        V3        V4        V5        V6        V7  \\\n",
       "0   0.0 -1.359807 -0.072781  2.536347  1.378155 -0.338321  0.462388  0.239599   \n",
       "1   0.0  1.191857  0.266151  0.166480  0.448154  0.060018 -0.082361 -0.078803   \n",
       "2   1.0 -1.358354 -1.340163  1.773209  0.379780 -0.503198  1.800499  0.791461   \n",
       "\n",
       "         V8        V9  ...         V21       V22       V23       V24  \\\n",
       "0  0.098698  0.363787  ...   -0.018307  0.277838 -0.110474  0.066928   \n",
       "1  0.085102 -0.255425  ...   -0.225775 -0.638672  0.101288 -0.339846   \n",
       "2  0.247676 -1.514654  ...    0.247998  0.771679  0.909412 -0.689281   \n",
       "\n",
       "        V25       V26       V27       V28  Amount  Class  \n",
       "0  0.128539 -0.189115  0.133558 -0.021053  149.62      0  \n",
       "1  0.167170  0.125895 -0.008983  0.014724    2.69      0  \n",
       "2 -0.327642 -0.139097 -0.055353 -0.059752  378.66      0  \n",
       "\n",
       "[3 rows x 31 columns]"
      ]
     },
     "execution_count": 2,
     "metadata": {},
     "output_type": "execute_result"
    }
   ],
   "source": [
    "data = pd.read_csv(\"C:/Users/JoyWa/Desktop/CSC529/Project/data/creditcard.csv\")\n",
    "print data.shape\n",
    "data.head(3)"
   ]
  },
  {
   "cell_type": "markdown",
   "metadata": {},
   "source": [
    "## 2. Checking the target classes"
   ]
  },
  {
   "cell_type": "code",
   "execution_count": 3,
   "metadata": {
    "scrolled": true
   },
   "outputs": [
    {
     "data": {
      "text/plain": [
       "0    284315\n",
       "1       492\n",
       "Name: Class, dtype: int64"
      ]
     },
     "execution_count": 3,
     "metadata": {},
     "output_type": "execute_result"
    }
   ],
   "source": [
    "count_classes = pd.value_counts(data['Class']).sort_index()\n",
    "count_classes"
   ]
  },
  {
   "cell_type": "markdown",
   "metadata": {},
   "source": [
    "## 3. Set target attribute & Split data into traing and test"
   ]
  },
  {
   "cell_type": "code",
   "execution_count": 4,
   "metadata": {},
   "outputs": [
    {
     "name": "stderr",
     "output_type": "stream",
     "text": [
      "C:\\Users\\JoyWa\\.anaconda\\2\\lib\\site-packages\\ipykernel_launcher.py:2: DeprecationWarning: \n",
      ".ix is deprecated. Please use\n",
      ".loc for label based indexing or\n",
      ".iloc for positional indexing\n",
      "\n",
      "See the documentation here:\n",
      "http://pandas.pydata.org/pandas-docs/stable/indexing.html#ix-indexer-is-deprecated\n",
      "  \n"
     ]
    },
    {
     "name": "stdout",
     "output_type": "stream",
     "text": [
      "Number of transactions train dataset:  199364\n",
      "Number of transactions test dataset:  85443\n",
      "Total number of transactions:  284807\n"
     ]
    },
    {
     "name": "stderr",
     "output_type": "stream",
     "text": [
      "C:\\Users\\JoyWa\\.anaconda\\2\\lib\\site-packages\\sklearn\\cross_validation.py:41: DeprecationWarning: This module was deprecated in version 0.18 in favor of the model_selection module into which all the refactored classes and functions are moved. Also note that the interface of the new CV iterators are different from that of this module. This module will be removed in 0.20.\n",
      "  \"This module will be removed in 0.20.\", DeprecationWarning)\n"
     ]
    }
   ],
   "source": [
    "X = data.drop(['Time','Class'],axis=1)\n",
    "y = data.ix[:, data.columns == 'Class']\n",
    "from sklearn.cross_validation import train_test_split\n",
    "\n",
    "X_train, X_test, y_train, y_test = train_test_split(X,y,test_size = 0.3, random_state = 33)\n",
    "print \"Number of transactions train dataset: \", len(X_train)\n",
    "print \"Number of transactions test dataset: \", len(X_test)\n",
    "print \"Total number of transactions: \", len(X_train)+len(X_test)"
   ]
  },
  {
   "cell_type": "code",
   "execution_count": 5,
   "metadata": {},
   "outputs": [
    {
     "name": "stdout",
     "output_type": "stream",
     "text": [
      "341\n",
      "199023\n"
     ]
    }
   ],
   "source": [
    "number_records_fraud = len(y_train[y_train.Class == 1])\n",
    "print number_records_fraud\n",
    "number_records_normal = len(y_train[y_train.Class == 0])\n",
    "print number_records_normal"
   ]
  },
  {
   "cell_type": "markdown",
   "metadata": {},
   "source": [
    "## 4. Resampling: Under-Sample"
   ]
  },
  {
   "cell_type": "code",
   "execution_count": 6,
   "metadata": {
    "collapsed": true
   },
   "outputs": [],
   "source": [
    "from imblearn.under_sampling import RandomUnderSampler"
   ]
  },
  {
   "cell_type": "code",
   "execution_count": 7,
   "metadata": {},
   "outputs": [
    {
     "name": "stdout",
     "output_type": "stream",
     "text": [
      "(682L, 29L)\n",
      "(682L,)\n"
     ]
    },
    {
     "name": "stderr",
     "output_type": "stream",
     "text": [
      "C:\\Users\\JoyWa\\.anaconda\\2\\lib\\site-packages\\sklearn\\utils\\validation.py:547: DataConversionWarning: A column-vector y was passed when a 1d array was expected. Please change the shape of y to (n_samples, ), for example using ravel().\n",
      "  y = column_or_1d(y, warn=True)\n"
     ]
    }
   ],
   "source": [
    "rus = RandomUnderSampler(random_state=33)\n",
    "X_train_undersample, y_train_undersample = rus.fit_sample(X_train,y_train)\n",
    "print X_train_undersample.shape\n",
    "print y_train_undersample.shape"
   ]
  },
  {
   "cell_type": "code",
   "execution_count": 8,
   "metadata": {
    "scrolled": false
   },
   "outputs": [
    {
     "data": {
      "text/plain": [
       "0    85292\n",
       "1      151\n",
       "Name: Class, dtype: int64"
      ]
     },
     "execution_count": 8,
     "metadata": {},
     "output_type": "execute_result"
    }
   ],
   "source": [
    "count_classes = pd.value_counts(y_test['Class']).sort_index()\n",
    "count_classes"
   ]
  },
  {
   "cell_type": "markdown",
   "metadata": {},
   "source": [
    "### 4.a Logistic Regression  - Recall"
   ]
  },
  {
   "cell_type": "code",
   "execution_count": 20,
   "metadata": {
    "collapsed": true
   },
   "outputs": [],
   "source": [
    "from sklearn.linear_model import LogisticRegression\n",
    "from sklearn.tree import DecisionTreeClassifier\n",
    "from sklearn.ensemble import RandomForestClassifier\n",
    "from sklearn.model_selection import GridSearchCV\n",
    "from sklearn.metrics import confusion_matrix,classification_report "
   ]
  },
  {
   "cell_type": "markdown",
   "metadata": {},
   "source": [
    "no gridsearchcv"
   ]
  },
  {
   "cell_type": "code",
   "execution_count": 10,
   "metadata": {
    "scrolled": true
   },
   "outputs": [
    {
     "name": "stdout",
     "output_type": "stream",
     "text": [
      "             precision    recall  f1-score   support\n",
      "\n",
      "          0       0.93      0.97      0.95       341\n",
      "          1       0.97      0.93      0.95       341\n",
      "\n",
      "avg / total       0.95      0.95      0.95       682\n",
      "\n",
      "             precision    recall  f1-score   support\n",
      "\n",
      "          0       1.00      0.96      0.98     85292\n",
      "          1       0.04      0.89      0.08       151\n",
      "\n",
      "avg / total       1.00      0.96      0.98     85443\n",
      "\n"
     ]
    }
   ],
   "source": [
    "lrclf = LogisticRegression()\n",
    "lrclf = lrclf.fit(X_train_undersample,y_train_undersample)\n",
    "train_under_p = lrclf.predict(X_train_undersample)\n",
    "print classification_report(y_train_undersample, train_under_p)\n",
    "test_under_p = lrclf.predict(X_test)\n",
    "print classification_report(y_test, test_under_p) "
   ]
  },
  {
   "cell_type": "markdown",
   "metadata": {},
   "source": [
    "gridsearchcv"
   ]
  },
  {
   "cell_type": "code",
   "execution_count": 14,
   "metadata": {},
   "outputs": [
    {
     "data": {
      "text/plain": [
       "{'C': 1, 'penalty': 'l2'}"
      ]
     },
     "execution_count": 14,
     "metadata": {},
     "output_type": "execute_result"
    }
   ],
   "source": [
    "param_grid = {'penalty':['l1','l2'],'C':[0.01,0.1,1,10,100]}\n",
    "lrclf = GridSearchCV(LogisticRegression(), param_grid,cv=5)\n",
    "lrclf = lrclf.fit(X_train_undersample,y_train_undersample)\n",
    "lrclf.best_params_"
   ]
  },
  {
   "cell_type": "code",
   "execution_count": 16,
   "metadata": {},
   "outputs": [
    {
     "name": "stdout",
     "output_type": "stream",
     "text": [
      "             precision    recall  f1-score   support\n",
      "\n",
      "          0       0.93      0.97      0.95       341\n",
      "          1       0.97      0.93      0.95       341\n",
      "\n",
      "avg / total       0.95      0.95      0.95       682\n",
      "\n",
      "             precision    recall  f1-score   support\n",
      "\n",
      "          0       1.00      0.96      0.98     85292\n",
      "          1       0.04      0.89      0.08       151\n",
      "\n",
      "avg / total       1.00      0.96      0.98     85443\n",
      "\n"
     ]
    }
   ],
   "source": [
    "lrclf = LogisticRegression(C=1,penalty='l2')\n",
    "lrclf = lrclf.fit(X_train_undersample,y_train_undersample)\n",
    "train_under_p = lrclf.predict(X_train_undersample)\n",
    "print classification_report(y_train_undersample, train_under_p)\n",
    "test_under_p = lrclf.predict(X_test)\n",
    "print classification_report(y_test, test_under_p) "
   ]
  },
  {
   "cell_type": "code",
   "execution_count": 17,
   "metadata": {
    "collapsed": true
   },
   "outputs": [],
   "source": [
    "import itertools\n",
    "\n",
    "def plot_confusion_matrix(cm, classes,\n",
    "                          normalize=False,\n",
    "                          title='Confusion matrix',\n",
    "                          cmap=plt.cm.Blues):\n",
    "    \"\"\"\n",
    "    This function prints and plots the confusion matrix.\n",
    "    Normalization can be applied by setting `normalize=True`.\n",
    "    \"\"\"\n",
    "    plt.imshow(cm, interpolation='nearest', cmap=cmap)\n",
    "    plt.title(title)\n",
    "    plt.colorbar()\n",
    "    tick_marks = np.arange(len(classes))\n",
    "    plt.xticks(tick_marks, classes, rotation=0)\n",
    "    plt.yticks(tick_marks, classes)\n",
    "\n",
    "    if normalize:\n",
    "        cm = cm.astype('float') / cm.sum(axis=1)[:, np.newaxis]\n",
    "        #print(\"Normalized confusion matrix\")\n",
    "    else:\n",
    "        1#print('Confusion matrix, without normalization')\n",
    "\n",
    "    #print(cm)\n",
    "\n",
    "    thresh = cm.max() / 2.\n",
    "    for i, j in itertools.product(range(cm.shape[0]), range(cm.shape[1])):\n",
    "        plt.text(j, i, cm[i, j],\n",
    "                 horizontalalignment=\"center\",\n",
    "                 color=\"white\" if cm[i, j] > thresh else \"black\")\n",
    "\n",
    "    plt.tight_layout()\n",
    "    plt.ylabel('True label')\n",
    "    plt.xlabel('Predicted label')"
   ]
  },
  {
   "cell_type": "code",
   "execution_count": 18,
   "metadata": {},
   "outputs": [
    {
     "data": {
      "image/png": "[encoded data removed]",
      "text/plain": [
       "<matplotlib.figure.Figure at 0x8c0e6a0>"
      ]
     },
     "metadata": {},
     "output_type": "display_data"
    }
   ],
   "source": [
    "cnf_matrix = confusion_matrix(y_test,test_under_p)\n",
    "class_names = [0,1]\n",
    "plt.figure()\n",
    "plot_confusion_matrix(cnf_matrix, classes=class_names, title='Confusion matrix')\n",
    "plt.show()"
   ]
  },
  {
   "cell_type": "markdown",
   "metadata": {},
   "source": [
    "### 4.b Decision Tree"
   ]
  },
  {
   "cell_type": "markdown",
   "metadata": {},
   "source": [
    "no gridserchcv"
   ]
  },
  {
   "cell_type": "code",
   "execution_count": 19,
   "metadata": {},
   "outputs": [
    {
     "name": "stdout",
     "output_type": "stream",
     "text": [
      "             precision    recall  f1-score   support\n",
      "\n",
      "          0       1.00      1.00      1.00       341\n",
      "          1       1.00      1.00      1.00       341\n",
      "\n",
      "avg / total       1.00      1.00      1.00       682\n",
      "\n",
      "             precision    recall  f1-score   support\n",
      "\n",
      "          0       1.00      0.92      0.96     85292\n",
      "          1       0.02      0.88      0.04       151\n",
      "\n",
      "avg / total       1.00      0.92      0.96     85443\n",
      "\n"
     ]
    }
   ],
   "source": [
    "treeclf = DecisionTreeClassifier()\n",
    "treeclf = treeclf.fit(X_train_undersample,y_train_undersample)\n",
    "train_under_p = treeclf.predict(X_train_undersample)\n",
    "print(classification_report(y_train_undersample, train_under_p))\n",
    "test_under_p = treeclf.predict(X_test)\n",
    "print classification_report(y_test, test_under_p) "
   ]
  },
  {
   "cell_type": "markdown",
   "metadata": {},
   "source": [
    "gridsearch"
   ]
  },
  {
   "cell_type": "code",
   "execution_count": 25,
   "metadata": {
    "scrolled": false
   },
   "outputs": [
    {
     "data": {
      "text/plain": [
       "{'criterion': 'entropy',\n",
       " 'max_depth': 3,\n",
       " 'min_samples_leaf': 1,\n",
       " 'min_samples_split': 4}"
      ]
     },
     "execution_count": 25,
     "metadata": {},
     "output_type": "execute_result"
    }
   ],
   "source": [
    "param_grid = {'criterion':['gini','entropy'],'max_depth': np.arange(2,10), 'min_samples_split':np.arange(2,10),'min_samples_leaf':np.arange(1,10)}\n",
    "treeclf = GridSearchCV(DecisionTreeClassifier(), param_grid,cv=5)\n",
    "treeclf = treeclf.fit(X_train_undersample,y_train_undersample)\n",
    "treeclf.best_params_"
   ]
  },
  {
   "cell_type": "code",
   "execution_count": 26,
   "metadata": {},
   "outputs": [
    {
     "name": "stdout",
     "output_type": "stream",
     "text": [
      "             precision    recall  f1-score   support\n",
      "\n",
      "          0       0.88      1.00      0.94       341\n",
      "          1       1.00      0.87      0.93       341\n",
      "\n",
      "avg / total       0.94      0.93      0.93       682\n",
      "\n",
      "             precision    recall  f1-score   support\n",
      "\n",
      "          0       1.00      0.99      1.00     85292\n",
      "          1       0.19      0.82      0.31       151\n",
      "\n",
      "avg / total       1.00      0.99      1.00     85443\n",
      "\n"
     ]
    }
   ],
   "source": [
    "treeclf = DecisionTreeClassifier(criterion='entropy', max_depth=3,min_samples_leaf=1,min_samples_split=4)\n",
    "treeclf = treeclf.fit(X_train_undersample,y_train_undersample)\n",
    "train_under_p = treeclf.predict(X_train_undersample)\n",
    "print(classification_report(y_train_undersample, train_under_p))\n",
    "test_under_p = treeclf.predict(X_test)\n",
    "print classification_report(y_test, test_under_p) "
   ]
  },
  {
   "cell_type": "code",
   "execution_count": 27,
   "metadata": {},
   "outputs": [
    {
     "data": {
      "image/png": "[encoded data removed]",
      "text/plain": [
       "<matplotlib.figure.Figure at 0x83a1be0>"
      ]
     },
     "metadata": {},
     "output_type": "display_data"
    }
   ],
   "source": [
    "cnf_matrix = confusion_matrix(y_test,test_under_p)\n",
    "class_names = [0,1]\n",
    "plt.figure()\n",
    "plot_confusion_matrix(cnf_matrix, classes=class_names, title='Confusion matrix')\n",
    "plt.show()"
   ]
  },
  {
   "cell_type": "markdown",
   "metadata": {},
   "source": [
    "## 4.c Random Forest"
   ]
  },
  {
   "cell_type": "markdown",
   "metadata": {},
   "source": [
    "without gridsearchcv"
   ]
  },
  {
   "cell_type": "code",
   "execution_count": 28,
   "metadata": {},
   "outputs": [
    {
     "name": "stdout",
     "output_type": "stream",
     "text": [
      "             precision    recall  f1-score   support\n",
      "\n",
      "          0       0.99      1.00      0.99       341\n",
      "          1       1.00      0.99      0.99       341\n",
      "\n",
      "avg / total       0.99      0.99      0.99       682\n",
      "\n",
      "             precision    recall  f1-score   support\n",
      "\n",
      "          0       1.00      0.98      0.99     85292\n",
      "          1       0.07      0.88      0.12       151\n",
      "\n",
      "avg / total       1.00      0.98      0.99     85443\n",
      "\n"
     ]
    }
   ],
   "source": [
    "rfclf = RandomForestClassifier()\n",
    "rfclf = rfclf.fit(X_train_undersample,y_train_undersample)\n",
    "train_under_p  = rfclf.predict(X_train_undersample)\n",
    "print classification_report(y_train_undersample, train_under_p )\n",
    "test_under_p = rfclf.predict(X_test)\n",
    "print classification_report(y_test, test_under_p)"
   ]
  },
  {
   "cell_type": "markdown",
   "metadata": {},
   "source": [
    "with gridserachcv"
   ]
  },
  {
   "cell_type": "code",
   "execution_count": 30,
   "metadata": {},
   "outputs": [
    {
     "data": {
      "text/plain": [
       "{'criterion': 'gini',\n",
       " 'max_depth': 5,\n",
       " 'min_samples_leaf': 9,\n",
       " 'min_samples_split': 2}"
      ]
     },
     "execution_count": 30,
     "metadata": {},
     "output_type": "execute_result"
    }
   ],
   "source": [
    "param_grid = {'criterion':['gini','entropy'],'max_depth': np.arange(2,10), 'min_samples_split':np.arange(2,10),'min_samples_leaf':np.arange(1,10)}\n",
    "rfclf = GridSearchCV(RandomForestClassifier(),param_grid,cv=5)\n",
    "rfclf = rfclf.fit(X_train_undersample,y_train_undersample)\n",
    "rfclf.best_params_"
   ]
  },
  {
   "cell_type": "code",
   "execution_count": 31,
   "metadata": {},
   "outputs": [
    {
     "name": "stdout",
     "output_type": "stream",
     "text": [
      "             precision    recall  f1-score   support\n",
      "\n",
      "          0       0.92      0.99      0.95       341\n",
      "          1       0.99      0.91      0.95       341\n",
      "\n",
      "avg / total       0.95      0.95      0.95       682\n",
      "\n",
      "             precision    recall  f1-score   support\n",
      "\n",
      "          0       1.00      0.98      0.99     85292\n",
      "          1       0.08      0.87      0.15       151\n",
      "\n",
      "avg / total       1.00      0.98      0.99     85443\n",
      "\n"
     ]
    }
   ],
   "source": [
    "rfclf = RandomForestClassifier(criterion='gini', max_depth=5,min_samples_leaf=9,min_samples_split=2)\n",
    "rfclf = rfclf.fit(X_train_undersample,y_train_undersample)\n",
    "train_under_p = rfclf.predict(X_train_undersample)\n",
    "print classification_report(y_train_undersample, train_under_p)\n",
    "test_under_p = rfclf.predict(X_test)\n",
    "print classification_report(y_test, test_under_p)"
   ]
  },
  {
   "cell_type": "code",
   "execution_count": 32,
   "metadata": {
    "scrolled": true
   },
   "outputs": [
    {
     "data": {
      "image/png": "[encoded data removed]",
      "text/plain": [
       "<matplotlib.figure.Figure at 0xc3c17b8>"
      ]
     },
     "metadata": {},
     "output_type": "display_data"
    }
   ],
   "source": [
    "cnf_matrix = confusion_matrix(y_test,test_under_p)\n",
    "class_names = [0,1]\n",
    "plt.figure()\n",
    "plot_confusion_matrix(cnf_matrix, classes=class_names, title='Confusion matrix')\n",
    "plt.show()"
   ]
  },
  {
   "cell_type": "markdown",
   "metadata": {},
   "source": [
    "# 5. Resampling: Over-sample"
   ]
  },
  {
   "cell_type": "code",
   "execution_count": 33,
   "metadata": {
    "collapsed": true,
    "scrolled": false
   },
   "outputs": [],
   "source": [
    "from imblearn.over_sampling import SMOTE "
   ]
  },
  {
   "cell_type": "code",
   "execution_count": 34,
   "metadata": {
    "scrolled": true
   },
   "outputs": [
    {
     "name": "stdout",
     "output_type": "stream",
     "text": [
      "(398046L, 29L)\n",
      "(398046L,)\n"
     ]
    }
   ],
   "source": [
    "sm = SMOTE(random_state=33,svm_estimator=None)\n",
    "X_train_oversample, y_train_oversample = sm.fit_sample(X_train,y_train)\n",
    "print X_train_oversample.shape\n",
    "print y_train_oversample.shape"
   ]
  },
  {
   "cell_type": "code",
   "execution_count": 35,
   "metadata": {
    "scrolled": false
   },
   "outputs": [
    {
     "name": "stdout",
     "output_type": "stream",
     "text": [
      "199023\n",
      "199023\n"
     ]
    }
   ],
   "source": [
    "number_records_fraud = len(y_train_oversample[y_train_oversample == 1])\n",
    "print number_records_fraud\n",
    "number_records_normal = len(y_train_oversample[y_train_oversample == 0])\n",
    "print number_records_normal"
   ]
  },
  {
   "cell_type": "markdown",
   "metadata": {},
   "source": [
    "## 5.a Logistic Regression"
   ]
  },
  {
   "cell_type": "markdown",
   "metadata": {},
   "source": [
    "no gridsearchcv"
   ]
  },
  {
   "cell_type": "code",
   "execution_count": 36,
   "metadata": {
    "scrolled": false
   },
   "outputs": [
    {
     "name": "stdout",
     "output_type": "stream",
     "text": [
      "             precision    recall  f1-score   support\n",
      "\n",
      "          0       0.95      0.98      0.97    199023\n",
      "          1       0.98      0.95      0.97    199023\n",
      "\n",
      "avg / total       0.97      0.97      0.97    398046\n",
      "\n",
      "             precision    recall  f1-score   support\n",
      "\n",
      "          0       1.00      0.98      0.99     85292\n",
      "          1       0.09      0.88      0.16       151\n",
      "\n",
      "avg / total       1.00      0.98      0.99     85443\n",
      "\n"
     ]
    }
   ],
   "source": [
    "lrclf = LogisticRegression()\n",
    "lrclf = lrclf.fit(X_train_oversample,y_train_oversample)\n",
    "train_over_p = lrclf.predict(X_train_oversample)\n",
    "print classification_report(y_train_oversample, train_over_p)\n",
    "test_over_p = lrclf.predict(X_test)\n",
    "print classification_report(y_test, test_over_p) "
   ]
  },
  {
   "cell_type": "markdown",
   "metadata": {},
   "source": [
    "gridsearchcv"
   ]
  },
  {
   "cell_type": "code",
   "execution_count": 37,
   "metadata": {},
   "outputs": [
    {
     "data": {
      "text/plain": [
       "{'C': 100, 'penalty': 'l2'}"
      ]
     },
     "execution_count": 37,
     "metadata": {},
     "output_type": "execute_result"
    }
   ],
   "source": [
    "param_grid = {'penalty':['l1','l2'],'C':[0.01,0.1,1,10,100]}\n",
    "lrclf = GridSearchCV(LogisticRegression(), param_grid,cv=5)\n",
    "lrclf = lrclf.fit(X_train_oversample,y_train_oversample)\n",
    "lrclf.best_params_"
   ]
  },
  {
   "cell_type": "code",
   "execution_count": 38,
   "metadata": {},
   "outputs": [
    {
     "name": "stdout",
     "output_type": "stream",
     "text": [
      "             precision    recall  f1-score   support\n",
      "\n",
      "          0       0.95      0.98      0.97    199023\n",
      "          1       0.98      0.95      0.97    199023\n",
      "\n",
      "avg / total       0.97      0.97      0.97    398046\n",
      "\n",
      "             precision    recall  f1-score   support\n",
      "\n",
      "          0       1.00      0.98      0.99     85292\n",
      "          1       0.09      0.88      0.16       151\n",
      "\n",
      "avg / total       1.00      0.98      0.99     85443\n",
      "\n"
     ]
    }
   ],
   "source": [
    "lrclf = LogisticRegression(penalty='l2' , C= 100)\n",
    "lrclf = lrclf.fit(X_train_oversample,y_train_oversample)\n",
    "train_over_p = lrclf.predict(X_train_oversample)\n",
    "print classification_report(y_train_oversample, train_over_p)\n",
    "test_over_p = lrclf.predict(X_test)\n",
    "print classification_report(y_test, test_over_p) "
   ]
  },
  {
   "cell_type": "code",
   "execution_count": 39,
   "metadata": {},
   "outputs": [
    {
     "data": {
      "image/png": "[encoded data removed]",
      "text/plain": [
       "<matplotlib.figure.Figure at 0x13218048>"
      ]
     },
     "metadata": {},
     "output_type": "display_data"
    }
   ],
   "source": [
    "cnf_matrix = confusion_matrix(y_test,test_over_p)\n",
    "class_names = [0,1]\n",
    "plt.figure()\n",
    "plot_confusion_matrix(cnf_matrix, classes=class_names, title='Confusion matrix')\n",
    "plt.show()"
   ]
  },
  {
   "cell_type": "markdown",
   "metadata": {},
   "source": [
    "## 5.b Decision Tree"
   ]
  },
  {
   "cell_type": "markdown",
   "metadata": {},
   "source": [
    "without gridsearch"
   ]
  },
  {
   "cell_type": "code",
   "execution_count": 40,
   "metadata": {
    "scrolled": false
   },
   "outputs": [
    {
     "name": "stdout",
     "output_type": "stream",
     "text": [
      "             precision    recall  f1-score   support\n",
      "\n",
      "          0       1.00      1.00      1.00    199023\n",
      "          1       1.00      1.00      1.00    199023\n",
      "\n",
      "avg / total       1.00      1.00      1.00    398046\n",
      "\n",
      "             precision    recall  f1-score   support\n",
      "\n",
      "          0       1.00      1.00      1.00     85292\n",
      "          1       0.44      0.77      0.56       151\n",
      "\n",
      "avg / total       1.00      1.00      1.00     85443\n",
      "\n"
     ]
    }
   ],
   "source": [
    "treeclf = DecisionTreeClassifier()\n",
    "treeclf = treeclf.fit(X_train_oversample,y_train_oversample)\n",
    "train_over_p = treeclf.predict(X_train_oversample)\n",
    "print(classification_report(y_train_oversample, train_over_p))\n",
    "test_over_p = treeclf.predict(X_test)\n",
    "print classification_report(y_test, test_over_p) "
   ]
  },
  {
   "cell_type": "code",
   "execution_count": 45,
   "metadata": {
    "scrolled": true
   },
   "outputs": [
    {
     "data": {
      "text/plain": [
       "{'max_depth': 4, 'min_samples_leaf': 1, 'min_samples_split': 2}"
      ]
     },
     "execution_count": 45,
     "metadata": {},
     "output_type": "execute_result"
    }
   ],
   "source": [
    "param_grid = {'max_depth': np.arange(2,5), 'min_samples_split':np.arange(2,5),'min_samples_leaf':np.arange(1,5)}\n",
    "treeclf = GridSearchCV(DecisionTreeClassifier(), param_grid,cv=5)\n",
    "treeclf = treeclf.fit(X_train_oversample,y_train_oversample)\n",
    "treeclf.best_params_"
   ]
  },
  {
   "cell_type": "code",
   "execution_count": 46,
   "metadata": {},
   "outputs": [
    {
     "name": "stdout",
     "output_type": "stream",
     "text": [
      "             precision    recall  f1-score   support\n",
      "\n",
      "          0       0.94      0.98      0.96    199023\n",
      "          1       0.97      0.94      0.96    199023\n",
      "\n",
      "avg / total       0.96      0.96      0.96    398046\n",
      "\n",
      "             precision    recall  f1-score   support\n",
      "\n",
      "          0       1.00      0.98      0.99     85292\n",
      "          1       0.06      0.88      0.11       151\n",
      "\n",
      "avg / total       1.00      0.98      0.99     85443\n",
      "\n"
     ]
    }
   ],
   "source": [
    "treeclf = DecisionTreeClassifier(max_depth=4,min_samples_leaf=1,min_samples_split=2)\n",
    "treeclf = treeclf.fit(X_train_oversample,y_train_oversample)\n",
    "train_over_p = treeclf.predict(X_train_oversample)\n",
    "print classification_report(y_train_oversample, train_over_p)\n",
    "test_over_p = treeclf.predict(X_test)\n",
    "print classification_report(y_test, test_over_p) "
   ]
  },
  {
   "cell_type": "code",
   "execution_count": 47,
   "metadata": {},
   "outputs": [
    {
     "data": {
      "image/png": "[encoded data removed]",
      "text/plain": [
       "<matplotlib.figure.Figure at 0xc53c438>"
      ]
     },
     "metadata": {},
     "output_type": "display_data"
    }
   ],
   "source": [
    "cnf_matrix = confusion_matrix(y_test,test_over_p)\n",
    "class_names = [0,1]\n",
    "plt.figure()\n",
    "plot_confusion_matrix(cnf_matrix, classes=class_names, title='Confusion matrix')\n",
    "plt.show()"
   ]
  },
  {
   "cell_type": "markdown",
   "metadata": {},
   "source": [
    "## 5.c Random Forest"
   ]
  },
  {
   "cell_type": "markdown",
   "metadata": {},
   "source": [
    "without gridsearch"
   ]
  },
  {
   "cell_type": "code",
   "execution_count": 48,
   "metadata": {
    "scrolled": true
   },
   "outputs": [
    {
     "name": "stdout",
     "output_type": "stream",
     "text": [
      "             precision    recall  f1-score   support\n",
      "\n",
      "          0       1.00      1.00      1.00    199023\n",
      "          1       1.00      1.00      1.00    199023\n",
      "\n",
      "avg / total       1.00      1.00      1.00    398046\n",
      "\n",
      "             precision    recall  f1-score   support\n",
      "\n",
      "          0       1.00      1.00      1.00     85292\n",
      "          1       0.91      0.77      0.83       151\n",
      "\n",
      "avg / total       1.00      1.00      1.00     85443\n",
      "\n"
     ]
    }
   ],
   "source": [
    "rfclf = RandomForestClassifier()\n",
    "rfclf = rfclf.fit(X_train_oversample,y_train_oversample)\n",
    "train_p_over = rfclf.predict(X_train_oversample)\n",
    "print classification_report(y_train_oversample, train_p_over)\n",
    "test_p_over = rfclf.predict(X_test)\n",
    "print classification_report(y_test, test_p_over)"
   ]
  },
  {
   "cell_type": "code",
   "execution_count": 51,
   "metadata": {},
   "outputs": [
    {
     "data": {
      "text/plain": [
       "{'max_depth': 4, 'min_samples_leaf': 1, 'min_samples_split': 4}"
      ]
     },
     "execution_count": 51,
     "metadata": {},
     "output_type": "execute_result"
    }
   ],
   "source": [
    "param_grid = {'max_depth': np.arange(2,5), 'min_samples_split':np.arange(2,5),'min_samples_leaf':np.arange(1,5)}\n",
    "rfclf = GridSearchCV(RandomForestClassifier(), param_grid,cv=5)\n",
    "rfclf = rfclf.fit(X_train_oversample,y_train_oversample)\n",
    "rfclf.best_params_"
   ]
  },
  {
   "cell_type": "code",
   "execution_count": 52,
   "metadata": {},
   "outputs": [
    {
     "name": "stdout",
     "output_type": "stream",
     "text": [
      "             precision    recall  f1-score   support\n",
      "\n",
      "          0       0.93      0.99      0.96    199023\n",
      "          1       0.99      0.92      0.95    199023\n",
      "\n",
      "avg / total       0.96      0.96      0.96    398046\n",
      "\n",
      "             precision    recall  f1-score   support\n",
      "\n",
      "          0       1.00      0.99      0.99     85292\n",
      "          1       0.13      0.85      0.23       151\n",
      "\n",
      "avg / total       1.00      0.99      0.99     85443\n",
      "\n"
     ]
    }
   ],
   "source": [
    "rfclf = RandomForestClassifier(max_depth=4,min_samples_leaf=1,min_samples_split=4)\n",
    "rfclf = rfclf.fit(X_train_oversample,y_train_oversample)\n",
    "train_p_over = rfclf.predict(X_train_oversample)\n",
    "print classification_report(y_train_oversample, train_p_over)\n",
    "test_p_over = rfclf.predict(X_test)\n",
    "print classification_report(y_test, test_p_over)"
   ]
  },
  {
   "cell_type": "code",
   "execution_count": 53,
   "metadata": {},
   "outputs": [
    {
     "data": {
      "image/png": "[encoded data removed]",
      "text/plain": [
       "<matplotlib.figure.Figure at 0x1522ad30>"
      ]
     },
     "metadata": {},
     "output_type": "display_data"
    }
   ],
   "source": [
    "cnf_matrix = confusion_matrix(y_test,test_over_p)\n",
    "class_names = [0,1]\n",
    "plt.figure()\n",
    "plot_confusion_matrix(cnf_matrix, classes=class_names, title='Confusion matrix')\n",
    "plt.show()"
   ]
  },
  {
   "cell_type": "markdown",
   "metadata": {},
   "source": [
    "# 6. Original data"
   ]
  },
  {
   "cell_type": "markdown",
   "metadata": {},
   "source": [
    "6.a Logistic Regression"
   ]
  },
  {
   "cell_type": "code",
   "execution_count": 70,
   "metadata": {},
   "outputs": [
    {
     "data": {
      "text/plain": [
       "{'C': 10, 'penalty': 'l1'}"
      ]
     },
     "execution_count": 70,
     "metadata": {},
     "output_type": "execute_result"
    }
   ],
   "source": [
    "param_grid = {'penalty':['l1','l2'],'C':[0.01,0.1,1,10,100]}\n",
    "lrclf = GridSearchCV(LogisticRegression(), param_grid,cv=5)\n",
    "lrclf = lrclf.fit(np.array(X_train),np.ravel(y_train))\n",
    "lrclf.best_params_"
   ]
  },
  {
   "cell_type": "code",
   "execution_count": 71,
   "metadata": {},
   "outputs": [
    {
     "name": "stdout",
     "output_type": "stream",
     "text": [
      "             precision    recall  f1-score   support\n",
      "\n",
      "          0       1.00      1.00      1.00    199023\n",
      "          1       0.90      0.67      0.77       341\n",
      "\n",
      "avg / total       1.00      1.00      1.00    199364\n",
      "\n",
      "             precision    recall  f1-score   support\n",
      "\n",
      "          0       1.00      1.00      1.00     85292\n",
      "          1       0.85      0.62      0.71       151\n",
      "\n",
      "avg / total       1.00      1.00      1.00     85443\n",
      "\n"
     ]
    }
   ],
   "source": [
    "lrclf = LogisticRegression(penalty='l1',C=10)\n",
    "lrclf = lrclf.fit(X_train,y_train)\n",
    "train_all_p = lrclf.predict(X_train)\n",
    "print classification_report(y_train, train_all_p)\n",
    "test_all_p = lrclf.predict(X_test)\n",
    "print classification_report(y_test, test_all_p) "
   ]
  },
  {
   "cell_type": "code",
   "execution_count": 72,
   "metadata": {},
   "outputs": [
    {
     "data": {
      "image/png": "[encoded data removed]",
      "text/plain": [
       "<matplotlib.figure.Figure at 0xc4ad7b8>"
      ]
     },
     "metadata": {},
     "output_type": "display_data"
    }
   ],
   "source": [
    "cnf_matrix = confusion_matrix(y_test,test_all_p)\n",
    "class_names = [0,1]\n",
    "plt.figure()\n",
    "plot_confusion_matrix(cnf_matrix, classes=class_names, title='Confusion matrix')\n",
    "plt.show()"
   ]
  },
  {
   "cell_type": "markdown",
   "metadata": {},
   "source": [
    "6.b Decision Tree"
   ]
  },
  {
   "cell_type": "code",
   "execution_count": 74,
   "metadata": {},
   "outputs": [
    {
     "data": {
      "text/plain": [
       "{'max_depth': 4, 'min_samples_leaf': 4, 'min_samples_split': 2}"
      ]
     },
     "execution_count": 74,
     "metadata": {},
     "output_type": "execute_result"
    }
   ],
   "source": [
    "param_grid = {'max_depth': np.arange(2,5), 'min_samples_split':np.arange(2,5),'min_samples_leaf':np.arange(1,5)}\n",
    "treeclf = GridSearchCV(DecisionTreeClassifier(), param_grid,cv=5)\n",
    "treeclf = treeclf.fit(np.array(X_train),np.ravel(y_train))\n",
    "treeclf.best_params_"
   ]
  },
  {
   "cell_type": "code",
   "execution_count": 75,
   "metadata": {},
   "outputs": [
    {
     "name": "stdout",
     "output_type": "stream",
     "text": [
      "             precision    recall  f1-score   support\n",
      "\n",
      "          0       1.00      1.00      1.00    199023\n",
      "          1       0.91      0.80      0.85       341\n",
      "\n",
      "avg / total       1.00      1.00      1.00    199364\n",
      "\n",
      "             precision    recall  f1-score   support\n",
      "\n",
      "          0       1.00      1.00      1.00     85292\n",
      "          1       0.84      0.73      0.78       151\n",
      "\n",
      "avg / total       1.00      1.00      1.00     85443\n",
      "\n"
     ]
    }
   ],
   "source": [
    "treeclf = DecisionTreeClassifier(max_depth=4, min_samples_leaf=4, min_samples_split=2)\n",
    "treeclf = treeclf.fit(X_train,y_train)\n",
    "train_all_p = treeclf.predict(X_train)\n",
    "print classification_report(y_train, train_all_p)\n",
    "test_all_p = treeclf.predict(X_test)\n",
    "print classification_report(y_test, test_all_p) "
   ]
  },
  {
   "cell_type": "code",
   "execution_count": 76,
   "metadata": {},
   "outputs": [
    {
     "data": {
      "image/png": "[encoded data removed]",
      "text/plain": [
       "<matplotlib.figure.Figure at 0xc3e1e10>"
      ]
     },
     "metadata": {},
     "output_type": "display_data"
    }
   ],
   "source": [
    "cnf_matrix = confusion_matrix(y_test,test_all_p)\n",
    "class_names = [0,1]\n",
    "plt.figure()\n",
    "plot_confusion_matrix(cnf_matrix, classes=class_names, title='Confusion matrix')\n",
    "plt.show()"
   ]
  },
  {
   "cell_type": "markdown",
   "metadata": {},
   "source": [
    "6c. random forest"
   ]
  },
  {
   "cell_type": "code",
   "execution_count": 66,
   "metadata": {},
   "outputs": [
    {
     "data": {
      "text/plain": [
       "{'max_depth': 4, 'min_samples_leaf': 1, 'min_samples_split': 2}"
      ]
     },
     "execution_count": 66,
     "metadata": {},
     "output_type": "execute_result"
    }
   ],
   "source": [
    "param_grid = {'max_depth': np.arange(2,5), 'min_samples_split':np.arange(2,5),'min_samples_leaf':np.arange(1,5)}\n",
    "rfclf = GridSearchCV(RandomForestClassifier(), param_grid,cv=5)\n",
    "rfclf = rfclf.fit(np.array(X_train),np.ravel(y_train))\n",
    "rfclf.best_params_"
   ]
  },
  {
   "cell_type": "code",
   "execution_count": 67,
   "metadata": {},
   "outputs": [
    {
     "name": "stderr",
     "output_type": "stream",
     "text": [
      "C:\\Users\\JoyWa\\.anaconda\\2\\lib\\site-packages\\ipykernel_launcher.py:2: DataConversionWarning: A column-vector y was passed when a 1d array was expected. Please change the shape of y to (n_samples,), for example using ravel().\n",
      "  \n"
     ]
    },
    {
     "name": "stdout",
     "output_type": "stream",
     "text": [
      "             precision    recall  f1-score   support\n",
      "\n",
      "          0       1.00      1.00      1.00    199023\n",
      "          1       0.97      0.70      0.81       341\n",
      "\n",
      "avg / total       1.00      1.00      1.00    199364\n",
      "\n",
      "             precision    recall  f1-score   support\n",
      "\n",
      "          0       1.00      1.00      1.00     85292\n",
      "          1       0.93      0.60      0.73       151\n",
      "\n",
      "avg / total       1.00      1.00      1.00     85443\n",
      "\n"
     ]
    }
   ],
   "source": [
    "rfclf = RandomForestClassifier(max_depth=4,min_samples_split=2,min_samples_leaf=1)\n",
    "rfclf = rfclf.fit(X_train,y_train)\n",
    "train_all_p = rfclf.predict(X_train)\n",
    "print classification_report(y_train, train_all_p)\n",
    "test_all_p = rfclf.predict(X_test)\n",
    "print classification_report(y_test, test_all_p)"
   ]
  },
  {
   "cell_type": "code",
   "execution_count": 68,
   "metadata": {},
   "outputs": [
    {
     "data": {
      "image/png": "[encoded data removed]",
      "text/plain": [
       "<matplotlib.figure.Figure at 0xc5adac8>"
      ]
     },
     "metadata": {},
     "output_type": "display_data"
    }
   ],
   "source": [
    "cnf_matrix = confusion_matrix(y_test,test_all_p)\n",
    "class_names = [0,1]\n",
    "plt.figure()\n",
    "plot_confusion_matrix(cnf_matrix, classes=class_names, title='Confusion matrix')\n",
    "plt.show()"
   ]
  },
  {
   "cell_type": "markdown",
   "metadata": {},
   "source": [
    "# 7. Bagging on Three Datasets"
   ]
  },
  {
   "cell_type": "markdown",
   "metadata": {},
   "source": [
    "## Under sample"
   ]
  },
  {
   "cell_type": "code",
   "execution_count": 77,
   "metadata": {
    "collapsed": true
   },
   "outputs": [],
   "source": [
    "from sklearn.ensemble import BaggingClassifier"
   ]
  },
  {
   "cell_type": "code",
   "execution_count": 78,
   "metadata": {},
   "outputs": [
    {
     "name": "stdout",
     "output_type": "stream",
     "text": [
      "             precision    recall  f1-score   support\n",
      "\n",
      "          0       0.99      1.00      1.00       341\n",
      "          1       1.00      0.99      1.00       341\n",
      "\n",
      "avg / total       1.00      1.00      1.00       682\n",
      "\n",
      "             precision    recall  f1-score   support\n",
      "\n",
      "          0       1.00      0.96      0.98     85292\n",
      "          1       0.04      0.89      0.07       151\n",
      "\n",
      "avg / total       1.00      0.96      0.98     85443\n",
      "\n"
     ]
    }
   ],
   "source": [
    "bcclf = BaggingClassifier()\n",
    "bcclf = bcclf.fit(X_train_undersample,y_train_undersample)\n",
    "train_p_under = bcclf.predict(X_train_undersample)\n",
    "print classification_report(y_train_undersample, train_p_under)\n",
    "test_p_under = bcclf.predict(X_test)\n",
    "print classification_report(y_test, test_p_under)"
   ]
  },
  {
   "cell_type": "code",
   "execution_count": 79,
   "metadata": {},
   "outputs": [
    {
     "name": "stdout",
     "output_type": "stream",
     "text": [
      "             precision    recall  f1-score   support\n",
      "\n",
      "          0       0.95      0.97      0.96       341\n",
      "          1       0.97      0.94      0.96       341\n",
      "\n",
      "avg / total       0.96      0.96      0.96       682\n",
      "\n",
      "             precision    recall  f1-score   support\n",
      "\n",
      "          0       1.00      0.95      0.98     85292\n",
      "          1       0.03      0.91      0.06       151\n",
      "\n",
      "avg / total       1.00      0.95      0.97     85443\n",
      "\n"
     ]
    }
   ],
   "source": [
    "bcclf = BaggingClassifier(base_estimator=lrclf)\n",
    "bcclf = bcclf.fit(X_train_undersample,y_train_undersample)\n",
    "train_p_under = bcclf.predict(X_train_undersample)\n",
    "print classification_report(y_train_undersample, train_p_under)\n",
    "test_p_under = bcclf.predict(X_test)\n",
    "print classification_report(y_test, test_p_under)"
   ]
  },
  {
   "cell_type": "markdown",
   "metadata": {},
   "source": [
    "## over sample"
   ]
  },
  {
   "cell_type": "code",
   "execution_count": 80,
   "metadata": {},
   "outputs": [
    {
     "name": "stdout",
     "output_type": "stream",
     "text": [
      "             precision    recall  f1-score   support\n",
      "\n",
      "          0       1.00      1.00      1.00    199023\n",
      "          1       1.00      1.00      1.00    199023\n",
      "\n",
      "avg / total       1.00      1.00      1.00    398046\n",
      "\n",
      "             precision    recall  f1-score   support\n",
      "\n",
      "          0       1.00      1.00      1.00     85292\n",
      "          1       0.72      0.77      0.75       151\n",
      "\n",
      "avg / total       1.00      1.00      1.00     85443\n",
      "\n"
     ]
    }
   ],
   "source": [
    "bcclf = BaggingClassifier()\n",
    "bcclf = bcclf.fit(X_train_oversample,y_train_oversample)\n",
    "train_p_over = bcclf.predict(X_train_oversample)\n",
    "print classification_report(y_train_oversample, train_p_over)\n",
    "test_p_over = bcclf.predict(X_test)\n",
    "print classification_report(y_test, test_p_over)"
   ]
  },
  {
   "cell_type": "code",
   "execution_count": 81,
   "metadata": {},
   "outputs": [
    {
     "name": "stdout",
     "output_type": "stream",
     "text": [
      "             precision    recall  f1-score   support\n",
      "\n",
      "          0       0.95      0.98      0.97    199023\n",
      "          1       0.98      0.95      0.97    199023\n",
      "\n",
      "avg / total       0.97      0.97      0.97    398046\n",
      "\n",
      "             precision    recall  f1-score   support\n",
      "\n",
      "          0       1.00      0.98      0.99     85292\n",
      "          1       0.09      0.88      0.16       151\n",
      "\n",
      "avg / total       1.00      0.98      0.99     85443\n",
      "\n"
     ]
    }
   ],
   "source": [
    "bcclf = BaggingClassifier(base_estimator=lrclf)\n",
    "bcclf = bcclf.fit(X_train_oversample,y_train_oversample)\n",
    "train_p_over = bcclf.predict(X_train_oversample)\n",
    "print classification_report(y_train_oversample, train_p_over)\n",
    "test_p_over = bcclf.predict(X_test)\n",
    "print classification_report(y_test, test_p_over)"
   ]
  },
  {
   "cell_type": "markdown",
   "metadata": {},
   "source": [
    "## whole dataset"
   ]
  },
  {
   "cell_type": "code",
   "execution_count": 82,
   "metadata": {},
   "outputs": [
    {
     "name": "stdout",
     "output_type": "stream",
     "text": [
      "             precision    recall  f1-score   support\n",
      "\n",
      "          0       1.00      1.00      1.00    199023\n",
      "          1       0.99      0.94      0.96       341\n",
      "\n",
      "avg / total       1.00      1.00      1.00    199364\n",
      "\n",
      "             precision    recall  f1-score   support\n",
      "\n",
      "          0       1.00      1.00      1.00     85292\n",
      "          1       0.95      0.73      0.82       151\n",
      "\n",
      "avg / total       1.00      1.00      1.00     85443\n",
      "\n"
     ]
    }
   ],
   "source": [
    "bcclf = BaggingClassifier()\n",
    "bcclf = bcclf.fit(X_train,y_train)\n",
    "train_p_all = bcclf.predict(X_train)\n",
    "print(classification_report(y_train, train_p_all))\n",
    "test_p_all = bcclf.predict(X_test)\n",
    "print classification_report(y_test, test_p_all) "
   ]
  }
 ],
 "metadata": {
  "anaconda-cloud": {},
  "kernelspec": {
   "display_name": "Python 3",
   "language": "python",
   "name": "python3"
  },
  "language_info": {
   "codemirror_mode": {
    "name": "ipython",
    "version": 3
   },
   "file_extension": ".py",
   "mimetype": "text/x-python",
   "name": "python",
   "nbconvert_exporter": "python",
   "pygments_lexer": "ipython3",
   "version": "3.6.4"
  }
 },
 "nbformat": 4,
 "nbformat_minor": 1
}
